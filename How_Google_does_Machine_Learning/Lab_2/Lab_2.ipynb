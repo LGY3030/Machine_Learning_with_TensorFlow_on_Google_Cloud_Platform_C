{
 "cells": [
  {
   "cell_type": "code",
   "execution_count": 1,
   "metadata": {},
   "outputs": [],
   "source": [
    "from google.cloud import bigquery\n",
    "bq = bigquery.Client(project = 'qwiklabs-gcp-01-e98ca48bf4fc')"
   ]
  },
  {
   "cell_type": "code",
   "execution_count": 2,
   "metadata": {},
   "outputs": [],
   "source": [
    "query=\"\"\"\n",
    "SELECT\n",
    "  departure_delay,\n",
    "  COUNT(1) AS num_flights,\n",
    "  APPROX_QUANTILES(arrival_delay, 10) AS arrival_delay_deciles\n",
    "FROM\n",
    "  `bigquery-samples.airline_ontime_data.flights`\n",
    "GROUP BY\n",
    "  departure_delay\n",
    "HAVING\n",
    "  num_flights > 100\n",
    "ORDER BY\n",
    "  departure_delay ASC\n",
    "\"\"\""
   ]
  },
  {
   "cell_type": "code",
   "execution_count": 3,
   "metadata": {},
   "outputs": [],
   "source": [
    "df = bq.query(query).to_dataframe()"
   ]
  },
  {
   "cell_type": "code",
   "execution_count": 4,
   "metadata": {},
   "outputs": [
    {
     "data": {
      "text/html": [
       "<div>\n",
       "<style scoped>\n",
       "    .dataframe tbody tr th:only-of-type {\n",
       "        vertical-align: middle;\n",
       "    }\n",
       "\n",
       "    .dataframe tbody tr th {\n",
       "        vertical-align: top;\n",
       "    }\n",
       "\n",
       "    .dataframe thead th {\n",
       "        text-align: right;\n",
       "    }\n",
       "</style>\n",
       "<table border=\"1\" class=\"dataframe\">\n",
       "  <thead>\n",
       "    <tr style=\"text-align: right;\">\n",
       "      <th></th>\n",
       "      <th>departure_delay</th>\n",
       "      <th>num_flights</th>\n",
       "      <th>arrival_delay_deciles</th>\n",
       "    </tr>\n",
       "  </thead>\n",
       "  <tbody>\n",
       "    <tr>\n",
       "      <th>0</th>\n",
       "      <td>-37.0</td>\n",
       "      <td>107</td>\n",
       "      <td>[-66.0, -44.0, -41.0, -35.0, -30.0, -23.0, -17...</td>\n",
       "    </tr>\n",
       "    <tr>\n",
       "      <th>1</th>\n",
       "      <td>-36.0</td>\n",
       "      <td>139</td>\n",
       "      <td>[-74.0, -43.0, -39.0, -37.0, -32.0, -25.0, -18...</td>\n",
       "    </tr>\n",
       "    <tr>\n",
       "      <th>2</th>\n",
       "      <td>-35.0</td>\n",
       "      <td>191</td>\n",
       "      <td>[-68.0, -45.0, -40.0, -36.0, -28.0, -19.0, -14...</td>\n",
       "    </tr>\n",
       "    <tr>\n",
       "      <th>3</th>\n",
       "      <td>-34.0</td>\n",
       "      <td>195</td>\n",
       "      <td>[-58.0, -44.0, -40.0, -35.0, -30.0, -25.0, -19...</td>\n",
       "    </tr>\n",
       "    <tr>\n",
       "      <th>4</th>\n",
       "      <td>-33.0</td>\n",
       "      <td>227</td>\n",
       "      <td>[-59.0, -43.0, -39.0, -36.0, -32.0, -28.0, -20...</td>\n",
       "    </tr>\n",
       "  </tbody>\n",
       "</table>\n",
       "</div>"
      ],
      "text/plain": [
       "   departure_delay  num_flights  \\\n",
       "0            -37.0          107   \n",
       "1            -36.0          139   \n",
       "2            -35.0          191   \n",
       "3            -34.0          195   \n",
       "4            -33.0          227   \n",
       "\n",
       "                               arrival_delay_deciles  \n",
       "0  [-66.0, -44.0, -41.0, -35.0, -30.0, -23.0, -17...  \n",
       "1  [-74.0, -43.0, -39.0, -37.0, -32.0, -25.0, -18...  \n",
       "2  [-68.0, -45.0, -40.0, -36.0, -28.0, -19.0, -14...  \n",
       "3  [-58.0, -44.0, -40.0, -35.0, -30.0, -25.0, -19...  \n",
       "4  [-59.0, -43.0, -39.0, -36.0, -32.0, -28.0, -20...  "
      ]
     },
     "execution_count": 4,
     "metadata": {},
     "output_type": "execute_result"
    }
   ],
   "source": [
    "df.head()"
   ]
  },
  {
   "cell_type": "code",
   "execution_count": 5,
   "metadata": {},
   "outputs": [
    {
     "data": {
      "text/html": [
       "<div>\n",
       "<style scoped>\n",
       "    .dataframe tbody tr th:only-of-type {\n",
       "        vertical-align: middle;\n",
       "    }\n",
       "\n",
       "    .dataframe tbody tr th {\n",
       "        vertical-align: top;\n",
       "    }\n",
       "\n",
       "    .dataframe thead th {\n",
       "        text-align: right;\n",
       "    }\n",
       "</style>\n",
       "<table border=\"1\" class=\"dataframe\">\n",
       "  <thead>\n",
       "    <tr style=\"text-align: right;\">\n",
       "      <th></th>\n",
       "      <th>departure_delay</th>\n",
       "      <th>0%</th>\n",
       "      <th>10%</th>\n",
       "      <th>20%</th>\n",
       "      <th>30%</th>\n",
       "      <th>40%</th>\n",
       "      <th>50%</th>\n",
       "      <th>60%</th>\n",
       "      <th>70%</th>\n",
       "      <th>80%</th>\n",
       "      <th>90%</th>\n",
       "      <th>100%</th>\n",
       "    </tr>\n",
       "  </thead>\n",
       "  <tbody>\n",
       "    <tr>\n",
       "      <th>0</th>\n",
       "      <td>-37.0</td>\n",
       "      <td>-66.0</td>\n",
       "      <td>-44.0</td>\n",
       "      <td>-41.0</td>\n",
       "      <td>-35.0</td>\n",
       "      <td>-30.0</td>\n",
       "      <td>-23.0</td>\n",
       "      <td>-17.0</td>\n",
       "      <td>-12.0</td>\n",
       "      <td>-3.0</td>\n",
       "      <td>6.0</td>\n",
       "      <td>33.0</td>\n",
       "    </tr>\n",
       "    <tr>\n",
       "      <th>1</th>\n",
       "      <td>-36.0</td>\n",
       "      <td>-74.0</td>\n",
       "      <td>-43.0</td>\n",
       "      <td>-39.0</td>\n",
       "      <td>-37.0</td>\n",
       "      <td>-32.0</td>\n",
       "      <td>-25.0</td>\n",
       "      <td>-18.0</td>\n",
       "      <td>-14.0</td>\n",
       "      <td>-7.0</td>\n",
       "      <td>2.0</td>\n",
       "      <td>49.0</td>\n",
       "    </tr>\n",
       "    <tr>\n",
       "      <th>2</th>\n",
       "      <td>-35.0</td>\n",
       "      <td>-68.0</td>\n",
       "      <td>-45.0</td>\n",
       "      <td>-40.0</td>\n",
       "      <td>-36.0</td>\n",
       "      <td>-28.0</td>\n",
       "      <td>-19.0</td>\n",
       "      <td>-14.0</td>\n",
       "      <td>-8.0</td>\n",
       "      <td>-4.0</td>\n",
       "      <td>3.0</td>\n",
       "      <td>85.0</td>\n",
       "    </tr>\n",
       "    <tr>\n",
       "      <th>3</th>\n",
       "      <td>-34.0</td>\n",
       "      <td>-58.0</td>\n",
       "      <td>-44.0</td>\n",
       "      <td>-40.0</td>\n",
       "      <td>-35.0</td>\n",
       "      <td>-30.0</td>\n",
       "      <td>-25.0</td>\n",
       "      <td>-19.0</td>\n",
       "      <td>-14.0</td>\n",
       "      <td>-8.0</td>\n",
       "      <td>2.0</td>\n",
       "      <td>39.0</td>\n",
       "    </tr>\n",
       "    <tr>\n",
       "      <th>4</th>\n",
       "      <td>-33.0</td>\n",
       "      <td>-59.0</td>\n",
       "      <td>-43.0</td>\n",
       "      <td>-39.0</td>\n",
       "      <td>-36.0</td>\n",
       "      <td>-32.0</td>\n",
       "      <td>-28.0</td>\n",
       "      <td>-20.0</td>\n",
       "      <td>-14.0</td>\n",
       "      <td>-7.0</td>\n",
       "      <td>5.0</td>\n",
       "      <td>25.0</td>\n",
       "    </tr>\n",
       "  </tbody>\n",
       "</table>\n",
       "</div>"
      ],
      "text/plain": [
       "   departure_delay    0%   10%   20%   30%   40%   50%   60%   70%  80%  90%  \\\n",
       "0            -37.0 -66.0 -44.0 -41.0 -35.0 -30.0 -23.0 -17.0 -12.0 -3.0  6.0   \n",
       "1            -36.0 -74.0 -43.0 -39.0 -37.0 -32.0 -25.0 -18.0 -14.0 -7.0  2.0   \n",
       "2            -35.0 -68.0 -45.0 -40.0 -36.0 -28.0 -19.0 -14.0  -8.0 -4.0  3.0   \n",
       "3            -34.0 -58.0 -44.0 -40.0 -35.0 -30.0 -25.0 -19.0 -14.0 -8.0  2.0   \n",
       "4            -33.0 -59.0 -43.0 -39.0 -36.0 -32.0 -28.0 -20.0 -14.0 -7.0  5.0   \n",
       "\n",
       "   100%  \n",
       "0  33.0  \n",
       "1  49.0  \n",
       "2  85.0  \n",
       "3  39.0  \n",
       "4  25.0  "
      ]
     },
     "execution_count": 5,
     "metadata": {},
     "output_type": "execute_result"
    }
   ],
   "source": [
    "import pandas as pd\n",
    "percentiles = df['arrival_delay_deciles'].apply(pd.Series)\n",
    "percentiles = percentiles.rename(columns = lambda x : str(x*10) + \"%\")\n",
    "df = pd.concat([df['departure_delay'], percentiles], axis=1)\n",
    "df.head()"
   ]
  },
  {
   "cell_type": "code",
   "execution_count": 6,
   "metadata": {},
   "outputs": [
    {
     "data": {
      "text/plain": [
       "(508, 12)"
      ]
     },
     "execution_count": 6,
     "metadata": {},
     "output_type": "execute_result"
    }
   ],
   "source": [
    "df.shape"
   ]
  },
  {
   "cell_type": "code",
   "execution_count": 7,
   "metadata": {},
   "outputs": [
    {
     "data": {
      "image/png": "[encoded data removed]",
      "text/plain": [
       "<Figure size 432x288 with 1 Axes>"
      ]
     },
     "metadata": {
      "needs_background": "light"
     },
     "output_type": "display_data"
    }
   ],
   "source": [
    "without_extremes = df.drop(['0%', '100%'], 1)\n",
    "without_extremes.plot(x='departure_delay');"
   ]
  },
  {
   "cell_type": "code",
   "execution_count": null,
   "metadata": {},
   "outputs": [],
   "source": []
  }
 ],
 "metadata": {
  "environment": {
   "name": "common-cpu.m54",
   "type": "gcloud",
   "uri": "gcr.io/deeplearning-platform-release/base-cpu:m54"
  },
  "kernelspec": {
   "display_name": "Python 3",
   "language": "python",
   "name": "python3"
  },
  "language_info": {
   "codemirror_mode": {
    "name": "ipython",
    "version": 3
   },
   "file_extension": ".py",
   "mimetype": "text/x-python",
   "name": "python",
   "nbconvert_exporter": "python",
   "pygments_lexer": "ipython3",
   "version": "3.7.8"
  }
 },
 "nbformat": 4,
 "nbformat_minor": 4
}
